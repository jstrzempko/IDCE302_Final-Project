{
  "nbformat": 4,
  "nbformat_minor": 0,
  "metadata": {
    "colab": {
      "name": "Elise-Nycz_Jess-Strzempko_IDCE302_FinalProject-NWSWeather-Forecast.ipynb",
      "provenance": [],
      "collapsed_sections": [],
      "include_colab_link": true
    },
    "kernelspec": {
      "name": "python3",
      "display_name": "Python 3"
    }
  },
  "cells": [
    {
      "cell_type": "markdown",
      "metadata": {
        "id": "view-in-github",
        "colab_type": "text"
      },
      "source": [
        "<a href=\"https://colab.research.google.com/github/IDCE-MSGIS/final-project-team-10/blob/master/Elise_Nycz_Jess_Strzempko_IDCE302_FinalProject_NWSWeather_Forecast.ipynb\" target=\"_parent\"><img src=\"https://colab.research.google.com/assets/colab-badge.svg\" alt=\"Open In Colab\"/></a>"
      ]
    },
    {
      "cell_type": "markdown",
      "metadata": {
        "id": "hxXt6qUQdliY"
      },
      "source": [
        "Elise Nycz & Jess Strzempko  \n",
        "Created 8.28.20  \n",
        "Python version 3.6.9  \n",
        "IDCE 302 Python Programming  \n",
        "\n",
        "## Final Project - Script 1\n",
        "\n",
        "This script creates a National Weather Service URL from latitude and longitude values inputted from the user. It then scrapes information from this webpage about the upcoming forecast(4 days out) and outputs the information in a clear, understandable format. Techniques used in the re-formatting include the `.replace()` function, a for loop, an if statement that uses indexing to add spaces between words, and the `.upper()` function.  \n",
        "\n",
        "**Inputs:**  \n",
        "\n",
        "* User-inputted values for specified location: \n",
        "  + Latitude\n",
        "  + Longitude\n",
        "\n",
        "**Outputs:**  \n",
        "\n",
        "* Upcoming forecast in all uppercase \n",
        "  + Weekday (night or day)\n",
        "  + Descriptive forecast\n",
        "  + Predicted temperature\n",
        "  "
      ]
    },
    {
      "cell_type": "code",
      "metadata": {
        "id": "Hw5SxfWUdd6A"
      },
      "source": [
        "# import required libraries\n",
        "import requests\n",
        "from bs4 import BeautifulSoup\n",
        "\n",
        "# Create an empty list to store response\n",
        "forecast = []\n",
        "\n",
        "## Provide the latitude and longitude for the location you would like to check the forecast for\n",
        "## Lat/lon in decimal degrees provided for Worcester, MA below\n",
        "#lat = '42.2634'\n",
        "#lon = '-71.8022'\n",
        "## Use input function to have user enter latitude and longitude values with 4 decimals\n",
        "lat = input(\"Please enter latitude in decimal degrees here: \")\n",
        "lon = input(\"Please enter longitude in decimal degrees here: \")\n",
        "\n",
        "# Create url for the requested location through string concatenation\n",
        "url = 'https://forecast.weather.gov/MapClick.php?lat='+lat+\"&lon=\"+lon\n",
        "# Check if the URL exists\n",
        "#print(url)\n",
        "\n",
        "# Send request to retrieve the web-page using the get() function from the requests library\n",
        "# The page variable stores the response from the web-page\n",
        "page = requests.get(url)\n",
        "\n",
        "# Create a BeautifulSoup object with the response from the URL\n",
        "# Access contents of the web-page using .content\n",
        "# html_parser is used since our page is in HTML format\n",
        "soup=BeautifulSoup(page.content,\"html.parser\")\n",
        "\n",
        "# Locate elements on page to be scraped\n",
        "# findAll() locates all occurrences of div tag with the given class name\n",
        "# stores it in the BeautifulSoup object\n",
        "weather_forecast = soup.findAll(\"li\", {\"class\": \"forecast-tombstone\"})\n",
        "\n",
        "# Loop through the BeautifulSoup object to extract text text from every class instance using .text\n",
        "# Store results in a list\n",
        "for i in weather_forecast:\n",
        "    i = i.text\n",
        "    forecast.append(i)\n",
        "\n",
        "# Print list to remove unicode characters\n",
        "# Use a for loop & if statement to loop through the days in the forecast\n",
        "# (each day is an element in the list named forecast)\n",
        "# In locations with a capital letter followed by a lowercase letter (indicating a new word), add a space\n",
        "# Use the replace function to clean up any spacing issues that fall outside this method\n",
        "# Use the upper function to convert the outputted forecast to uppercase\n",
        "for day in forecast:\n",
        "  day = day.replace('yt', 'y t')\n",
        "  for i in range(len(day)):\n",
        "    if day[i].islower() and day[i + 1].isupper():\n",
        "      day = day[0:i + 1] + ' ' + day[i + 1:]\n",
        "  print(day.upper())"
      ],
      "execution_count": null,
      "outputs": []
    }
  ]
}